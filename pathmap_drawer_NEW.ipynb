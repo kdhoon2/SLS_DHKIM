{
 "cells": [
  {
   "cell_type": "code",
   "execution_count": 1,
   "metadata": {},
   "outputs": [],
   "source": [
    "%reset -f"
   ]
  },
  {
   "cell_type": "code",
   "execution_count": 2,
   "metadata": {},
   "outputs": [],
   "source": [
    "import matplotlib.pyplot as plt\n",
    "import numpy as np\n",
    "import pandas as pd\n",
    "\n",
    "df = pd.read_excel('paths_data.xlsx', sheet_name='Sheet1')\n",
    "df_np=df.to_numpy()\n",
    "\n",
    "paths=df_np[:,:-2].astype(np.int32)"
   ]
  },
  {
   "cell_type": "code",
   "execution_count": 3,
   "metadata": {},
   "outputs": [
    {
     "data": {
      "text/plain": [
       "array([ 1,  2, 12, 22, 32, 33, 23, 13,  3,  4, 14, 15,  5,  6,  7,  8, 18,\n",
       "       19, 29, 28, 27, 17, 16, 26, 36, 37, 38, 39, 49, 48, 58, 59, 69, 79,\n",
       "       89, 88, 98, 97, 87, 77, 78, 68, 67, 66, 76, 86, 96, 95, 85, 84, 94,\n",
       "       93, 83, 73, 63, 62, 72, 82, 92, 91, 81, 71, 61, 51, 41, 31, 21, 11,\n",
       "       10, 20, 30, 40, 50, 60, 70, 80], dtype=int32)"
      ]
     },
     "execution_count": 3,
     "metadata": {},
     "output_type": "execute_result"
    }
   ],
   "source": [
    "paths[0]"
   ]
  },
  {
   "cell_type": "code",
   "execution_count": 4,
   "metadata": {},
   "outputs": [],
   "source": [
    "sorted_first_path=np.sort(paths[0])"
   ]
  },
  {
   "cell_type": "code",
   "execution_count": 5,
   "metadata": {},
   "outputs": [],
   "source": [
    "hell_dict={}\n",
    "\n",
    "for i in range(len(sorted_first_path)):\n",
    "    hell_dict[sorted_first_path[i]] = i"
   ]
  },
  {
   "cell_type": "code",
   "execution_count": 6,
   "metadata": {},
   "outputs": [],
   "source": [
    "tmp_paths=paths.reshape(-1)\n",
    "new_paths=np.empty(tmp_paths.shape)\n",
    "\n",
    "for i in range(len(tmp_paths)):\n",
    "    new_paths[i]=hell_dict[tmp_paths[i]]\n",
    "    \n",
    "paths=new_paths.astype(np.int32).reshape(paths.shape)"
   ]
  },
  {
   "cell_type": "code",
   "execution_count": 9,
   "metadata": {},
   "outputs": [
    {
     "data": {
      "image/png": "[encoded data removed]",
      "text/plain": [
       "<Figure size 432x288 with 1 Axes>"
      ]
     },
     "metadata": {
      "needs_background": "light"
     },
     "output_type": "display_data"
    }
   ],
   "source": [
    "nn=7000\n",
    "\n",
    "ttl=paths[nn]\n",
    "\n",
    "A=np.zeros((len(ttl),len(ttl)))\n",
    "\n",
    "for i in range(len(ttl)):\n",
    "    A[i][ttl[i]] = 1\n",
    "\n",
    "\n",
    "plt.imshow(A.T, cmap=\"gray\")\n",
    "plt.xticks(np.linspace(0,70,8, dtype=np.int))\n",
    "\n",
    "\n",
    "ax = plt.gca()\n",
    "ax.set_xlabel('Time info', fontsize=15)\n",
    "ax.set_ylabel('Spatial info', fontsize=15)\n",
    "plt.savefig('pathmap_{}.eps'.format(nn), dpi=100, bbox_inches='tight')\n",
    "plt.show()\n"
   ]
  },
  {
   "cell_type": "code",
   "execution_count": 8,
   "metadata": {},
   "outputs": [
    {
     "data": {
      "text/plain": [
       "array([10, 20, 28, 29, 21, 11, 12, 13,  4,  3,  2,  1,  0,  9,  8, 18, 19,\n",
       "       27, 26, 34, 35, 39, 38, 42, 43, 44, 45, 53, 61, 60, 52, 51, 50, 58,\n",
       "       59, 68, 69, 70, 71, 62, 63, 72, 73, 74, 75, 66, 67, 57, 56, 55, 65,\n",
       "       64, 54, 46, 47, 48, 49, 41, 40, 36, 37, 33, 32, 31, 30, 22, 23, 15,\n",
       "       14,  5,  6,  7, 16, 24, 25, 17], dtype=int32)"
      ]
     },
     "execution_count": 8,
     "metadata": {},
     "output_type": "execute_result"
    }
   ],
   "source": [
    "ttl"
   ]
  },
  {
   "cell_type": "code",
   "execution_count": null,
   "metadata": {},
   "outputs": [],
   "source": []
  }
 ],
 "metadata": {
  "kernelspec": {
   "display_name": "Python 3",
   "language": "python",
   "name": "python3"
  },
  "language_info": {
   "codemirror_mode": {
    "name": "ipython",
    "version": 3
   },
   "file_extension": ".py",
   "mimetype": "text/x-python",
   "name": "python",
   "nbconvert_exporter": "python",
   "pygments_lexer": "ipython3",
   "version": "3.8.5"
  }
 },
 "nbformat": 4,
 "nbformat_minor": 2
}
